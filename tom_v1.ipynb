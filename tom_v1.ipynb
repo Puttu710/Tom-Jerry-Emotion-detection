{
  "nbformat": 4,
  "nbformat_minor": 0,
  "metadata": {
    "colab": {
      "name": "tom_v1.ipynb",
      "provenance": [],
      "collapsed_sections": [],
      "toc_visible": true,
      "include_colab_link": true
    },
    "kernelspec": {
      "name": "python3",
      "display_name": "Python 3"
    },
    "accelerator": "GPU"
  },
  "cells": [
    {
      "cell_type": "markdown",
      "metadata": {
        "id": "view-in-github",
        "colab_type": "text"
      },
      "source": [
        "<a href=\"https://colab.research.google.com/github/Puttu710/Tom-Jerry-Emotion-detection/blob/master/tom_v1.ipynb\" target=\"_parent\"><img src=\"https://colab.research.google.com/assets/colab-badge.svg\" alt=\"Open In Colab\"/></a>"
      ]
    },
    {
      "cell_type": "code",
      "metadata": {
        "id": "uS4LUyBtbNSH",
        "colab_type": "code",
        "colab": {}
      },
      "source": [
        "import numpy as np # linear algebra\n",
        "import pandas as pd # data processing"
      ],
      "execution_count": 0,
      "outputs": []
    },
    {
      "cell_type": "code",
      "metadata": {
        "id": "kqYc0eskbboy",
        "colab_type": "code",
        "outputId": "24fa11ce-f592-4edb-c747-a0a31d22aa9a",
        "colab": {
          "base_uri": "https://localhost:8080/",
          "height": 54
        }
      },
      "source": [
        "from google.colab import drive\n",
        "drive.mount(\"/content/drive\")"
      ],
      "execution_count": 0,
      "outputs": [
        {
          "output_type": "stream",
          "text": [
            "Drive already mounted at /content/drive; to attempt to forcibly remount, call drive.mount(\"/content/drive\", force_remount=True).\n"
          ],
          "name": "stdout"
        }
      ]
    },
    {
      "cell_type": "code",
      "metadata": {
        "id": "pvljupAqbbrO",
        "colab_type": "code",
        "outputId": "26a69963-64a2-4742-ed5c-4f51455055cd",
        "colab": {
          "base_uri": "https://localhost:8080/",
          "height": 139
        }
      },
      "source": [
        "path = \"/content/drive/My Drive/tom&jerry\"\n",
        "import os\n",
        "for dirname, _, filenames in os.walk('/content/drive/My Drive/tom&jerry'):\n",
        "    for filename in filenames:\n",
        "        print(os.path.join(dirname, filename))\n",
        "        from zipfile import ZipFile\n",
        "\n",
        "file_name=\"/content/drive/My Drive/tom&jerry/test.zip\"\n",
        "with ZipFile(file_name,'r') as zip:\n",
        "  zip.extractall()\n",
        "  print('unzip test Done')\n",
        "\n",
        "file_name=\"/content/drive/My Drive/tom&jerry/train.zip\"\n",
        "with ZipFile(file_name,'r') as zip:\n",
        "  zip.extractall()\n",
        "  print('unzip train Done')\n",
        "\n"
      ],
      "execution_count": 0,
      "outputs": [
        {
          "output_type": "stream",
          "text": [
            "/content/drive/My Drive/tom&jerry/train.zip\n",
            "/content/drive/My Drive/tom&jerry/test.zip\n",
            "/content/drive/My Drive/tom&jerry/sample_submission.csv\n",
            "/content/drive/My Drive/tom&jerry/test.csv\n",
            "/content/drive/My Drive/tom&jerry/train.csv\n",
            "unzip test Done\n",
            "unzip train Done\n"
          ],
          "name": "stdout"
        }
      ]
    },
    {
      "cell_type": "code",
      "metadata": {
        "id": "R6dQRufwcLc4",
        "colab_type": "code",
        "outputId": "eb417016-0cc0-4d19-fa97-a90f424d0524",
        "colab": {
          "base_uri": "https://localhost:8080/",
          "height": 34
        }
      },
      "source": [
        "import cv2\n",
        "import keras\n",
        "from skimage import io\n",
        "import matplotlib.pyplot as plt\n",
        "from skimage.color import rgb2gray\n",
        "from sklearn.preprocessing import normalize\n",
        "from sklearn.metrics import accuracy_score,f1_score,confusion_matrix\n",
        "from tensorflow.python.keras import Sequential\n",
        "from sklearn.model_selection import train_test_split\n",
        "from tensorflow.python.keras.layers import Conv2D, MaxPooling2D, Dense, Dropout, Flatten"
      ],
      "execution_count": 0,
      "outputs": [
        {
          "output_type": "stream",
          "text": [
            "Using TensorFlow backend.\n"
          ],
          "name": "stderr"
        }
      ]
    },
    {
      "cell_type": "code",
      "metadata": {
        "id": "jS3_sIR4cRUc",
        "colab_type": "code",
        "outputId": "51e39895-57df-4206-880a-93a72c20c8ab",
        "colab": {
          "base_uri": "https://localhost:8080/",
          "height": 34
        }
      },
      "source": [
        "df_test = pd.read_csv('/content/drive/My Drive/tom&jerry/test.csv')\n",
        "df_train = pd.read_csv('/content/drive/My Drive/tom&jerry/train.csv')\n",
        "# np.unique(df_train['Emotion'])\n",
        "df_test.shape    #(275,1)\n",
        "df_train.shape"
      ],
      "execution_count": 0,
      "outputs": [
        {
          "output_type": "execute_result",
          "data": {
            "text/plain": [
              "(1941, 2)"
            ]
          },
          "metadata": {
            "tags": []
          },
          "execution_count": 5
        }
      ]
    },
    {
      "cell_type": "code",
      "metadata": {
        "id": "fIdzR5I4fFlP",
        "colab_type": "code",
        "outputId": "04f14599-8992-45d7-87b1-8cc390e2c68c",
        "colab": {
          "base_uri": "https://localhost:8080/",
          "height": 206
        }
      },
      "source": [
        "df_test.head(5)"
      ],
      "execution_count": 0,
      "outputs": [
        {
          "output_type": "execute_result",
          "data": {
            "text/html": [
              "<div>\n",
              "<style scoped>\n",
              "    .dataframe tbody tr th:only-of-type {\n",
              "        vertical-align: middle;\n",
              "    }\n",
              "\n",
              "    .dataframe tbody tr th {\n",
              "        vertical-align: top;\n",
              "    }\n",
              "\n",
              "    .dataframe thead th {\n",
              "        text-align: right;\n",
              "    }\n",
              "</style>\n",
              "<table border=\"1\" class=\"dataframe\">\n",
              "  <thead>\n",
              "    <tr style=\"text-align: right;\">\n",
              "      <th></th>\n",
              "      <th>image_file</th>\n",
              "    </tr>\n",
              "  </thead>\n",
              "  <tbody>\n",
              "    <tr>\n",
              "      <th>0</th>\n",
              "      <td>IMG_10000000f</td>\n",
              "    </tr>\n",
              "    <tr>\n",
              "      <th>1</th>\n",
              "      <td>IMG_10000013f</td>\n",
              "    </tr>\n",
              "    <tr>\n",
              "      <th>2</th>\n",
              "      <td>IMG_10000018f</td>\n",
              "    </tr>\n",
              "    <tr>\n",
              "      <th>3</th>\n",
              "      <td>IMG_10000030f</td>\n",
              "    </tr>\n",
              "    <tr>\n",
              "      <th>4</th>\n",
              "      <td>IMG_10000032f</td>\n",
              "    </tr>\n",
              "  </tbody>\n",
              "</table>\n",
              "</div>"
            ],
            "text/plain": [
              "      image_file\n",
              "0  IMG_10000000f\n",
              "1  IMG_10000013f\n",
              "2  IMG_10000018f\n",
              "3  IMG_10000030f\n",
              "4  IMG_10000032f"
            ]
          },
          "metadata": {
            "tags": []
          },
          "execution_count": 6
        }
      ]
    },
    {
      "cell_type": "code",
      "metadata": {
        "id": "TbbizKf-cRbK",
        "colab_type": "code",
        "outputId": "0509aa68-91db-452a-d3ff-3d19df2d2ec4",
        "colab": {
          "base_uri": "https://localhost:8080/",
          "height": 351
        }
      },
      "source": [
        "import seaborn as sns\n",
        "sns.countplot(df_train['emotion'])"
      ],
      "execution_count": 0,
      "outputs": [
        {
          "output_type": "stream",
          "text": [
            "/usr/local/lib/python3.6/dist-packages/statsmodels/tools/_testing.py:19: FutureWarning: pandas.util.testing is deprecated. Use the functions in the public API at pandas.testing instead.\n",
            "  import pandas.util.testing as tm\n"
          ],
          "name": "stderr"
        },
        {
          "output_type": "execute_result",
          "data": {
            "text/plain": [
              "<matplotlib.axes._subplots.AxesSubplot at 0x7f24316c8940>"
            ]
          },
          "metadata": {
            "tags": []
          },
          "execution_count": 7
        },
        {
          "output_type": "display_data",
          "data": {
            "image/png": "[encoded data removed]",
            "text/plain": [
              "<Figure size 432x288 with 1 Axes>"
            ]
          },
          "metadata": {
            "tags": [],
            "needs_background": "light"
          }
        }
      ]
    },
    {
      "cell_type": "code",
      "metadata": {
        "id": "KXBawJMK6rQF",
        "colab_type": "code",
        "outputId": "8cffd8a8-207e-4fa5-ec90-f2f55f565651",
        "colab": {
          "base_uri": "https://localhost:8080/",
          "height": 54
        }
      },
      "source": [
        "train_image_file = df_train['image_file'].to_list()\n",
        "train_emotion = df_train['emotion'].to_list()#train_label\n",
        "print(train_image_file)"
      ],
      "execution_count": 0,
      "outputs": [
        {
          "output_type": "stream",
          "text": [
            "['IMG_10000000fn', 'IMG_10000000n', 'IMG_10000004f', 'IMG_10000004fn', 'IMG_10000004n', 'IMG_10000010f', 'IMG_10000010fn', 'IMG_10000010n', 'IMG_10000013fn', 'IMG_10000013n', 'IMG_10000016f', 'IMG_10000016fn', 'IMG_10000016n', 'IMG_10000017f', 'IMG_10000017fn', 'IMG_10000017n', 'IMG_10000018fn', 'IMG_10000018n', 'IMG_10000019f', 'IMG_10000019fn', 'IMG_10000019n', 'IMG_10000023f', 'IMG_10000023fn', 'IMG_10000023n', 'IMG_10000024f', 'IMG_10000024fn', 'IMG_10000024n', 'IMG_10000029f', 'IMG_10000029fn', 'IMG_10000029n', 'IMG_10000030fn', 'IMG_10000030n', 'IMG_10000031f', 'IMG_10000031fn', 'IMG_10000031n', 'IMG_10000032fn', 'IMG_10000032n', 'IMG_10000038fn', 'IMG_10000038n', 'IMG_10000039f', 'IMG_10000039fn', 'IMG_10000039n', 'IMG_10000047fn', 'IMG_10000047n', 'IMG_10000048fn', 'IMG_10000048n', 'IMG_10000049fn', 'IMG_10000049n', 'IMG_10000050fn', 'IMG_10000050n', 'IMG_10000051f', 'IMG_10000051fn', 'IMG_10000051n', 'IMG_10000052f', 'IMG_10000052fn', 'IMG_10000052n', 'IMG_10000053f', 'IMG_10000053fn', 'IMG_10000053n', 'IMG_10000057f', 'IMG_10000057fn', 'IMG_10000057n', 'IMG_10000058fn', 'IMG_10000058n', 'IMG_10000059fn', 'IMG_10000059n', 'IMG_10000060f', 'IMG_10000060fn', 'IMG_10000060n', 'IMG_10000064f', 'IMG_10000064fn', 'IMG_10000064n', 'IMG_10000065f', 'IMG_10000065fn', 'IMG_10000065n', 'IMG_10000066f', 'IMG_10000066fn', 'IMG_10000066n', 'IMG_10000067f', 'IMG_10000067fn', 'IMG_10000067n', 'IMG_10000068fn', 'IMG_10000068n', 'IMG_10000069f', 'IMG_10000069fn', 'IMG_10000069n', 'IMG_10000070fn', 'IMG_10000070n', 'IMG_10000071f', 'IMG_10000071fn', 'IMG_10000071n', 'IMG_10000072f', 'IMG_10000072fn', 'IMG_10000072n', 'IMG_10000073f', 'IMG_10000073fn', 'IMG_10000073n', 'IMG_10000074f', 'IMG_10000074fn', 'IMG_10000074n', 'IMG_10000075fn', 'IMG_10000075n', 'IMG_10000076f', 'IMG_10000076fn', 'IMG_10000076n', 'IMG_10000077fn', 'IMG_10000077n', 'IMG_10000078fn', 'IMG_10000078n', 'IMG_10000079f', 'IMG_10000079fn', 'IMG_10000079n', 'IMG_10000080fn', 'IMG_10000080n', 'IMG_10000081fn', 'IMG_10000081n', 'IMG_10000082f', 'IMG_10000082fn', 'IMG_10000082n', 'IMG_10000083fn', 'IMG_10000083n', 'IMG_10000084f', 'IMG_10000084fn', 'IMG_10000084n', 'IMG_10000085fn', 'IMG_10000085n', 'IMG_10000086fn', 'IMG_10000086n', 'IMG_10000087fn', 'IMG_10000087n', 'IMG_10000088f', 'IMG_10000088fn', 'IMG_10000088n', 'IMG_10000089f', 'IMG_10000089fn', 'IMG_10000089n', 'IMG_10000091f', 'IMG_10000091fn', 'IMG_10000091n', 'IMG_10000092f', 'IMG_10000092fn', 'IMG_10000092n', 'IMG_10000093fn', 'IMG_10000093n', 'IMG_10000094f', 'IMG_10000094fn', 'IMG_10000094n', 'IMG_10000095fn', 'IMG_10000095n', 'IMG_10000096f', 'IMG_10000096fn', 'IMG_10000096n', 'IMG_10000097fn', 'IMG_10000097n', 'IMG_10000118fn', 'IMG_10000118n', 'IMG_10000129f', 'IMG_10000129fn', 'IMG_10000129n', 'IMG_10000130fn', 'IMG_10000130n', 'IMG_10000137f', 'IMG_10000137fn', 'IMG_10000137n', 'IMG_10000138fn', 'IMG_10000138n', 'IMG_10000139f', 'IMG_10000139fn', 'IMG_10000139n', 'IMG_10000143f', 'IMG_10000143fn', 'IMG_10000143n', 'IMG_10000145fn', 'IMG_10000145n', 'IMG_10000147f', 'IMG_10000147fn', 'IMG_10000147n', 'IMG_10000148fn', 'IMG_10000148n', 'IMG_10000149f', 'IMG_10000149fn', 'IMG_10000149n', 'IMG_10000150fn', 'IMG_10000150n', 'IMG_10000151fn', 'IMG_10000151n', 'IMG_10000152f', 'IMG_10000152fn', 'IMG_10000152n', 'IMG_10000153fn', 'IMG_10000153n', 'IMG_10000154f', 'IMG_10000154fn', 'IMG_10000154n', 'IMG_10000155f', 'IMG_10000155fn', 'IMG_10000155n', 'IMG_10000156fn', 'IMG_10000156n', 'IMG_10000157fn', 'IMG_10000157n', 'IMG_10000158f', 'IMG_10000158fn', 'IMG_10000158n', 'IMG_10000159fn', 'IMG_10000159n', 'IMG_10000160f', 'IMG_10000160fn', 'IMG_10000160n', 'IMG_10000161fn', 'IMG_10000161n', 'IMG_10000162f', 'IMG_10000162fn', 'IMG_10000162n', 'IMG_10000163fn', 'IMG_10000163n', 'IMG_10000164f', 'IMG_10000164fn', 'IMG_10000164n', 'IMG_10000165f', 'IMG_10000165fn', 'IMG_10000165n', 'IMG_10000166fn', 'IMG_10000166n', 'IMG_10000167fn', 'IMG_10000167n', 'IMG_10000168f', 'IMG_10000168fn', 'IMG_10000168n', 'IMG_10000169f', 'IMG_10000169fn', 'IMG_10000169n', 'IMG_10000170f', 'IMG_10000170fn', 'IMG_10000170n', 'IMG_10000176f', 'IMG_10000176fn', 'IMG_10000176n', 'IMG_10000184fn', 'IMG_10000184n', 'IMG_10000186fn', 'IMG_10000186n', 'IMG_10000187fn', 'IMG_10000187n', 'IMG_10000188fn', 'IMG_10000188n', 'IMG_10000201fn', 'IMG_10000201n', 'IMG_10000202fn', 'IMG_10000202n', 'IMG_10000203fn', 'IMG_10000203n', 'IMG_10000204fn', 'IMG_10000204n', 'IMG_10000205fn', 'IMG_10000205n', 'IMG_10000209f', 'IMG_10000209fn', 'IMG_10000209n', 'IMG_10000210fn', 'IMG_10000210n', 'IMG_10000215fn', 'IMG_10000215n', 'IMG_10000216fn', 'IMG_10000216n', 'IMG_10000222fn', 'IMG_10000222n', 'IMG_10000225fn', 'IMG_10000225n', 'IMG_10000226fn', 'IMG_10000226n', 'IMG_10000227fn', 'IMG_10000227n', 'IMG_10000230f', 'IMG_10000230fn', 'IMG_10000230n', 'IMG_10000231f', 'IMG_10000231fn', 'IMG_10000231n', 'IMG_10000232fn', 'IMG_10000232n', 'IMG_10000233fn', 'IMG_10000233n', 'IMG_10000234f', 'IMG_10000234fn', 'IMG_10000234n', 'IMG_10000235f', 'IMG_10000235fn', 'IMG_10000235n', 'IMG_10000236fn', 'IMG_10000236n', 'IMG_10000237f', 'IMG_10000237fn', 'IMG_10000237n', 'IMG_10000238f', 'IMG_10000238fn', 'IMG_10000238n', 'IMG_10000240f', 'IMG_10000240fn', 'IMG_10000240n', 'IMG_10000241fn', 'IMG_10000241n', 'IMG_10000242fn', 'IMG_10000242n', 'IMG_10000243fn', 'IMG_10000243n', 'IMG_10000244fn', 'IMG_10000244n', 'IMG_10000245fn', 'IMG_10000245n', 'IMG_10000246f', 'IMG_10000246fn', 'IMG_10000246n', 'IMG_10000247fn', 'IMG_10000247n', 'IMG_10000248fn', 'IMG_10000248n', 'IMG_10000275fn', 'IMG_10000275n', 'IMG_10000276f', 'IMG_10000276fn', 'IMG_10000276n', 'IMG_10000277f', 'IMG_10000277fn', 'IMG_10000277n', 'IMG_10000278f', 'IMG_10000278fn', 'IMG_10000278n', 'IMG_10000279f', 'IMG_10000279fn', 'IMG_10000279n', 'IMG_10000280f', 'IMG_10000280fn', 'IMG_10000280n', 'IMG_10000281f', 'IMG_10000281fn', 'IMG_10000281n', 'IMG_10000282f', 'IMG_10000282fn', 'IMG_10000282n', 'IMG_10000283fn', 'IMG_10000283n', 'IMG_10000284f', 'IMG_10000284fn', 'IMG_10000284n', 'IMG_10000286fn', 'IMG_10000286n', 'IMG_10000287f', 'IMG_10000287fn', 'IMG_10000287n', 'IMG_10000288f', 'IMG_10000288fn', 'IMG_10000288n', 'IMG_10000294f', 'IMG_10000294fn', 'IMG_10000294n', 'IMG_10000297f', 'IMG_10000297fn', 'IMG_10000297n', 'IMG_10000298f', 'IMG_10000298fn', 'IMG_10000298n', 'IMG_10000300f', 'IMG_10000300fn', 'IMG_10000300n', 'IMG_10000301f', 'IMG_10000301fn', 'IMG_10000301n', 'IMG_10000302f', 'IMG_10000302fn', 'IMG_10000302n', 'IMG_10000303fn', 'IMG_10000303n', 'IMG_10000304fn', 'IMG_10000304n', 'IMG_10000305fn', 'IMG_10000305n', 'IMG_10000306fn', 'IMG_10000306n', 'IMG_10000307fn', 'IMG_10000307n', 'IMG_10000308f', 'IMG_10000308fn', 'IMG_10000308n', 'IMG_10000309f', 'IMG_10000309fn', 'IMG_10000309n', 'IMG_10000310fn', 'IMG_10000310n', 'IMG_10000311fn', 'IMG_10000311n', 'IMG_10000323fn', 'IMG_10000323n', 'IMG_10000324fn', 'IMG_10000324n', 'IMG_10000325f', 'IMG_10000325fn', 'IMG_10000325n', 'IMG_10000326f', 'IMG_10000326fn', 'IMG_10000326n', 'IMG_10000327f', 'IMG_10000327fn', 'IMG_10000327n', 'IMG_10000328f', 'IMG_10000328fn', 'IMG_10000328n', 'IMG_10000329fn', 'IMG_10000329n', 'IMG_10000330fn', 'IMG_10000330n', 'IMG_10000331fn', 'IMG_10000331n', 'IMG_10000332f', 'IMG_10000332fn', 'IMG_10000332n', 'IMG_10000333f', 'IMG_10000333fn', 'IMG_10000333n', 'IMG_10000334fn', 'IMG_10000334n', 'IMG_10000335f', 'IMG_10000335fn', 'IMG_10000335n', 'IMG_10000336fn', 'IMG_10000336n', 'IMG_10000337fn', 'IMG_10000337n', 'IMG_10000338f', 'IMG_10000338fn', 'IMG_10000338n', 'IMG_10000339f', 'IMG_10000339fn', 'IMG_10000339n', 'IMG_10000341f', 'IMG_10000341fn', 'IMG_10000341n', 'IMG_10000342fn', 'IMG_10000342n', 'IMG_10000343f', 'IMG_10000343fn', 'IMG_10000343n', 'IMG_10000344fn', 'IMG_10000344n', 'IMG_10000345f', 'IMG_10000345fn', 'IMG_10000345n', 'IMG_10000348fn', 'IMG_10000348n', 'IMG_10000350f', 'IMG_10000350fn', 'IMG_10000350n', 'IMG_10000351fn', 'IMG_10000351n', 'IMG_10000352f', 'IMG_10000352fn', 'IMG_10000352n', 'IMG_10000353f', 'IMG_10000353fn', 'IMG_10000353n', 'IMG_10000354fn', 'IMG_10000354n', 'IMG_10000355f', 'IMG_10000355fn', 'IMG_10000355n', 'IMG_10000356fn', 'IMG_10000356n', 'IMG_10000357fn', 'IMG_10000357n', 'IMG_10000358fn', 'IMG_10000358n', 'IMG_10000359fn', 'IMG_10000359n', 'IMG_10000360fn', 'IMG_10000360n', 'IMG_10000361f', 'IMG_10000361fn', 'IMG_10000361n', 'IMG_10000362fn', 'IMG_10000362n', 'IMG_10000363f', 'IMG_10000363fn', 'IMG_10000363n', 'IMG_10000364f', 'IMG_10000364fn', 'IMG_10000364n', 'IMG_10000365f', 'IMG_10000365fn', 'IMG_10000365n', 'IMG_10000366fn', 'IMG_10000366n', 'IMG_10000367fn', 'IMG_10000367n', 'IMG_10000368fn', 'IMG_10000368n', 'IMG_10000369fn', 'IMG_10000369n', 'IMG_10000370fn', 'IMG_10000370n', 'IMG_10000371f', 'IMG_10000371fn', 'IMG_10000371n', 'IMG_10000372fn', 'IMG_10000372n', 'IMG_10000373fn', 'IMG_10000373n', 'IMG_10000374fn', 'IMG_10000374n', 'IMG_10000375f', 'IMG_10000375fn', 'IMG_10000375n', 'IMG_10000376fn', 'IMG_10000376n', 'IMG_10000377f', 'IMG_10000377fn', 'IMG_10000377n', 'IMG_10000384fn', 'IMG_10000384n', 'IMG_10000385f', 'IMG_10000385fn', 'IMG_10000385n', 'IMG_20000000f', 'IMG_20000000fn', 'IMG_20000000n', 'IMG_20000001f', 'IMG_20000001fn', 'IMG_20000001n', 'IMG_20000002f', 'IMG_20000002fn', 'IMG_20000002n', 'IMG_20000003f', 'IMG_20000003fn', 'IMG_20000003n', 'IMG_20000004f', 'IMG_20000004fn', 'IMG_20000004n', 'IMG_20000005f', 'IMG_20000005fn', 'IMG_20000005n', 'IMG_20000006f', 'IMG_20000006fn', 'IMG_20000006n', 'IMG_20000007f', 'IMG_20000007fn', 'IMG_20000007n', 'IMG_20000008f', 'IMG_20000008fn', 'IMG_20000008n', 'IMG_20000009f', 'IMG_20000009fn', 'IMG_20000009n', 'IMG_20000010f', 'IMG_20000010fn', 'IMG_20000010n', 'IMG_20000011fn', 'IMG_20000011n', 'IMG_20000012f', 'IMG_20000012fn', 'IMG_20000012n', 'IMG_20000013f', 'IMG_20000013fn', 'IMG_20000013n', 'IMG_20000014f', 'IMG_20000014fn', 'IMG_20000014n', 'IMG_20000015f', 'IMG_20000015fn', 'IMG_20000015n', 'IMG_20000016f', 'IMG_20000016fn', 'IMG_20000016n', 'IMG_20000017f', 'IMG_20000017fn', 'IMG_20000017n', 'IMG_20000018f', 'IMG_20000018fn', 'IMG_20000018n', 'IMG_20000019f', 'IMG_20000019fn', 'IMG_20000019n', 'IMG_20000020f', 'IMG_20000020fn', 'IMG_20000020n', 'IMG_20000021fn', 'IMG_20000021n', 'IMG_20000022fn', 'IMG_20000022n', 'IMG_20000023f', 'IMG_20000023fn', 'IMG_20000023n', 'IMG_20000024f', 'IMG_20000024fn', 'IMG_20000024n', 'IMG_20000025f', 'IMG_20000025fn', 'IMG_20000025n', 'IMG_20000026f', 'IMG_20000026fn', 'IMG_20000026n', 'IMG_20000027f', 'IMG_20000027fn', 'IMG_20000027n', 'IMG_20000028f', 'IMG_20000028fn', 'IMG_20000028n', 'IMG_20000029f', 'IMG_20000029fn', 'IMG_20000029n', 'IMG_20000030f', 'IMG_20000030fn', 'IMG_20000030n', 'IMG_20000031f', 'IMG_20000031fn', 'IMG_20000031n', 'IMG_20000032f', 'IMG_20000032fn', 'IMG_20000032n', 'IMG_20000033f', 'IMG_20000033fn', 'IMG_20000033n', 'IMG_20000034f', 'IMG_20000034fn', 'IMG_20000034n', 'IMG_20000035f', 'IMG_20000035fn', 'IMG_20000035n', 'IMG_20000036f', 'IMG_20000036fn', 'IMG_20000036n', 'IMG_20000037f', 'IMG_20000037fn', 'IMG_20000037n', 'IMG_20000038fn', 'IMG_20000038n', 'IMG_20000039fn', 'IMG_20000039n', 'IMG_20000040fn', 'IMG_20000040n', 'IMG_20000041f', 'IMG_20000041fn', 'IMG_20000041n', 'IMG_20000042f', 'IMG_20000042fn', 'IMG_20000042n', 'IMG_20000043f', 'IMG_20000043fn', 'IMG_20000043n', 'IMG_20000044f', 'IMG_20000044fn', 'IMG_20000044n', 'IMG_20000045f', 'IMG_20000045fn', 'IMG_20000045n', 'IMG_20000046f', 'IMG_20000046fn', 'IMG_20000046n', 'IMG_20000047f', 'IMG_20000047fn', 'IMG_20000047n', 'IMG_20000048f', 'IMG_20000048fn', 'IMG_20000048n', 'IMG_20000049f', 'IMG_20000049fn', 'IMG_20000049n', 'IMG_20000050f', 'IMG_20000050fn', 'IMG_20000050n', 'IMG_20000051f', 'IMG_20000051fn', 'IMG_20000051n', 'IMG_20000052f', 'IMG_20000052fn', 'IMG_20000052n', 'IMG_20000053f', 'IMG_20000053fn', 'IMG_20000053n', 'IMG_20000054fn', 'IMG_20000054n', 'IMG_20000055fn', 'IMG_20000055n', 'IMG_20000056f', 'IMG_20000056fn', 'IMG_20000056n', 'IMG_20000057f', 'IMG_20000057fn', 'IMG_20000057n', 'IMG_20000058f', 'IMG_20000058fn', 'IMG_20000058n', 'IMG_20000059f', 'IMG_20000059fn', 'IMG_20000059n', 'IMG_20000060f', 'IMG_20000060fn', 'IMG_20000060n', 'IMG_20000061f', 'IMG_20000061fn', 'IMG_20000061n', 'IMG_20000062f', 'IMG_20000062fn', 'IMG_20000062n', 'IMG_20000063f', 'IMG_20000063fn', 'IMG_20000063n', 'IMG_20000064f', 'IMG_20000064fn', 'IMG_20000064n', 'IMG_20000065f', 'IMG_20000065fn', 'IMG_20000065n', 'IMG_20000066f', 'IMG_20000066fn', 'IMG_20000066n', 'IMG_20000067f', 'IMG_20000067fn', 'IMG_20000067n', 'IMG_20000068f', 'IMG_20000068fn', 'IMG_20000068n', 'IMG_20000069f', 'IMG_20000069fn', 'IMG_20000069n', 'IMG_20000070f', 'IMG_20000070fn', 'IMG_20000070n', 'IMG_20000071f', 'IMG_20000071fn', 'IMG_20000071n', 'IMG_20000072f', 'IMG_20000072fn', 'IMG_20000072n', 'IMG_20000073fn', 'IMG_20000073n', 'IMG_20000074fn', 'IMG_20000074n', 'IMG_20000075fn', 'IMG_20000075n', 'IMG_20000076fn', 'IMG_20000076n', 'IMG_20000077fn', 'IMG_20000077n', 'IMG_20000078f', 'IMG_20000078fn', 'IMG_20000078n', 'IMG_20000079fn', 'IMG_20000079n', 'IMG_20000080f', 'IMG_20000080fn', 'IMG_20000080n', 'IMG_20000081f', 'IMG_20000081fn', 'IMG_20000081n', 'IMG_20000082fn', 'IMG_20000082n', 'IMG_20000083f', 'IMG_20000083fn', 'IMG_20000083n', 'IMG_20000084f', 'IMG_20000084fn', 'IMG_20000084n', 'IMG_20000085f', 'IMG_20000085fn', 'IMG_20000085n', 'IMG_20000086fn', 'IMG_20000086n', 'IMG_20000087f', 'IMG_20000087fn', 'IMG_20000087n', 'IMG_20000088f', 'IMG_20000088fn', 'IMG_20000088n', 'IMG_20000089f', 'IMG_20000089fn', 'IMG_20000089n', 'IMG_20000090f', 'IMG_20000090fn', 'IMG_20000090n', 'IMG_20000091f', 'IMG_20000091fn', 'IMG_20000091n', 'IMG_20000092fn', 'IMG_20000092n', 'IMG_20000093f', 'IMG_20000093fn', 'IMG_20000093n', 'IMG_20000094f', 'IMG_20000094fn', 'IMG_20000094n', 'IMG_20000095f', 'IMG_20000095fn', 'IMG_20000095n', 'IMG_20000096fn', 'IMG_20000096n', 'IMG_20000097fn', 'IMG_20000097n', 'IMG_20000098f', 'IMG_20000098fn', 'IMG_20000098n', 'IMG_20000099f', 'IMG_20000099fn', 'IMG_20000099n', 'IMG_20000100f', 'IMG_20000100fn', 'IMG_20000100n', 'IMG_20000101f', 'IMG_20000101fn', 'IMG_20000101n', 'IMG_20000102fn', 'IMG_20000102n', 'IMG_20000103fn', 'IMG_20000103n', 'IMG_20000104fn', 'IMG_20000104n', 'IMG_20000105fn', 'IMG_20000105n', 'IMG_20000106fn', 'IMG_20000106n', 'IMG_20000107fn', 'IMG_20000107n', 'IMG_20000108fn', 'IMG_20000108n', 'IMG_20000109fn', 'IMG_20000109n', 'IMG_20000110fn', 'IMG_20000110n', 'IMG_20000111fn', 'IMG_20000111n', 'IMG_20000112f', 'IMG_20000112fn', 'IMG_20000112n', 'IMG_20000113f', 'IMG_20000113fn', 'IMG_20000113n', 'IMG_20000114f', 'IMG_20000114fn', 'IMG_20000114n', 'IMG_20000115f', 'IMG_20000115fn', 'IMG_20000115n', 'IMG_20000116f', 'IMG_20000116fn', 'IMG_20000116n', 'IMG_20000117f', 'IMG_20000117fn', 'IMG_20000117n', 'IMG_20000118f', 'IMG_20000118fn', 'IMG_20000118n', 'IMG_20000119f', 'IMG_20000119fn', 'IMG_20000119n', 'IMG_20000120f', 'IMG_20000120fn', 'IMG_20000120n', 'IMG_20000121f', 'IMG_20000121fn', 'IMG_20000121n', 'IMG_20000122f', 'IMG_20000122fn', 'IMG_20000122n', 'IMG_20000123f', 'IMG_20000123fn', 'IMG_20000123n', 'IMG_20000124f', 'IMG_20000124fn', 'IMG_20000124n', 'IMG_20000125f', 'IMG_20000125fn', 'IMG_20000125n', 'IMG_20000126f', 'IMG_20000126fn', 'IMG_20000126n', 'IMG_20000127f', 'IMG_20000127fn', 'IMG_20000127n', 'IMG_20000128f', 'IMG_20000128fn', 'IMG_20000128n', 'IMG_20000129f', 'IMG_20000129fn', 'IMG_20000129n', 'IMG_20000130f', 'IMG_20000130fn', 'IMG_20000130n', 'IMG_20000131f', 'IMG_20000131fn', 'IMG_20000131n', 'IMG_20000132f', 'IMG_20000132fn', 'IMG_20000132n', 'IMG_20000133f', 'IMG_20000133fn', 'IMG_20000133n', 'IMG_20000134f', 'IMG_20000134fn', 'IMG_20000134n', 'IMG_20000135f', 'IMG_20000135fn', 'IMG_20000135n', 'IMG_20000136f', 'IMG_20000136fn', 'IMG_20000136n', 'IMG_20000137f', 'IMG_20000137fn', 'IMG_20000137n', 'IMG_20000138f', 'IMG_20000138fn', 'IMG_20000138n', 'IMG_20000139f', 'IMG_20000139fn', 'IMG_20000139n', 'IMG_20000140f', 'IMG_20000140fn', 'IMG_20000140n', 'IMG_20000141f', 'IMG_20000141fn', 'IMG_20000141n', 'IMG_20000142f', 'IMG_20000142fn', 'IMG_20000142n', 'IMG_20000143f', 'IMG_20000143fn', 'IMG_20000143n', 'IMG_20000144f', 'IMG_20000144fn', 'IMG_20000144n', 'IMG_20000145f', 'IMG_20000145fn', 'IMG_20000145n', 'IMG_20000146f', 'IMG_20000146fn', 'IMG_20000146n', 'IMG_20000147f', 'IMG_20000147fn', 'IMG_20000147n', 'IMG_20000148f', 'IMG_20000148fn', 'IMG_20000148n', 'IMG_20000149f', 'IMG_20000149fn', 'IMG_20000149n', 'IMG_20000150f', 'IMG_20000150fn', 'IMG_20000150n', 'IMG_20000151f', 'IMG_20000151fn', 'IMG_20000151n', 'IMG_20000152f', 'IMG_20000152fn', 'IMG_20000152n', 'IMG_20000153f', 'IMG_20000153fn', 'IMG_20000153n', 'IMG_20000154f', 'IMG_20000154fn', 'IMG_20000154n', 'IMG_20000155f', 'IMG_20000155fn', 'IMG_20000155n', 'IMG_20000156f', 'IMG_20000156fn', 'IMG_20000156n', 'IMG_20000157f', 'IMG_20000157fn', 'IMG_20000157n', 'IMG_20000158f', 'IMG_20000158fn', 'IMG_20000158n', 'IMG_20000159f', 'IMG_20000159fn', 'IMG_20000159n', 'IMG_20000160f', 'IMG_20000160fn', 'IMG_20000160n', 'IMG_20000161f', 'IMG_20000161fn', 'IMG_20000161n', 'IMG_20000162f', 'IMG_20000162fn', 'IMG_20000162n', 'IMG_20000163f', 'IMG_20000163fn', 'IMG_20000163n', 'IMG_20000164f', 'IMG_20000164fn', 'IMG_20000164n', 'IMG_20000165f', 'IMG_20000165fn', 'IMG_20000165n', 'IMG_20000166f', 'IMG_20000166fn', 'IMG_20000166n', 'IMG_20000167f', 'IMG_20000167fn', 'IMG_20000167n', 'IMG_20000168f', 'IMG_20000168fn', 'IMG_20000168n', 'IMG_20000169f', 'IMG_20000169fn', 'IMG_20000169n', 'IMG_20000170f', 'IMG_20000170fn', 'IMG_20000170n', 'IMG_20000171f', 'IMG_20000171fn', 'IMG_20000171n', 'IMG_20000172f', 'IMG_20000172fn', 'IMG_20000172n', 'IMG_20000173f', 'IMG_20000173fn', 'IMG_20000173n', 'IMG_20000174f', 'IMG_20000174fn', 'IMG_20000174n', 'IMG_20000175f', 'IMG_20000175fn', 'IMG_20000175n', 'IMG_20000176f', 'IMG_20000176fn', 'IMG_20000176n', 'IMG_20000177f', 'IMG_20000177fn', 'IMG_20000177n', 'IMG_20000178f', 'IMG_20000178fn', 'IMG_20000178n', 'IMG_20000179f', 'IMG_20000179fn', 'IMG_20000179n', 'IMG_20000180f', 'IMG_20000180fn', 'IMG_20000180n', 'IMG_20000181f', 'IMG_20000181fn', 'IMG_20000181n', 'IMG_20000182f', 'IMG_20000182fn', 'IMG_20000182n', 'IMG_20000183f', 'IMG_20000183fn', 'IMG_20000183n', 'IMG_20000184f', 'IMG_20000184fn', 'IMG_20000184n', 'IMG_20000185f', 'IMG_20000185fn', 'IMG_20000185n', 'IMG_20000186f', 'IMG_20000186fn', 'IMG_20000186n', 'IMG_20000187f', 'IMG_20000187fn', 'IMG_20000187n', 'IMG_20000188f', 'IMG_20000188fn', 'IMG_20000188n', 'IMG_20000189f', 'IMG_20000189fn', 'IMG_20000189n', 'IMG_20000190f', 'IMG_20000190fn', 'IMG_20000190n', 'IMG_20000191f', 'IMG_20000191fn', 'IMG_20000191n', 'IMG_20000192f', 'IMG_20000192fn', 'IMG_20000192n', 'IMG_20000193f', 'IMG_20000193fn', 'IMG_20000193n', 'IMG_20000194f', 'IMG_20000194fn', 'IMG_20000194n', 'IMG_20000195f', 'IMG_20000195fn', 'IMG_20000195n', 'IMG_20000196f', 'IMG_20000196fn', 'IMG_20000196n', 'IMG_20000197f', 'IMG_20000197fn', 'IMG_20000197n', 'IMG_20000198f', 'IMG_20000198fn', 'IMG_20000198n', 'IMG_20000199f', 'IMG_20000199fn', 'IMG_20000199n', 'IMG_20000200f', 'IMG_20000200fn', 'IMG_20000200n', 'IMG_20000201f', 'IMG_20000201fn', 'IMG_20000201n', 'IMG_20000202f', 'IMG_20000202fn', 'IMG_20000202n', 'IMG_20000203f', 'IMG_20000203fn', 'IMG_20000203n', 'IMG_20000204f', 'IMG_20000204fn', 'IMG_20000204n', 'IMG_20000205f', 'IMG_20000205fn', 'IMG_20000205n', 'IMG_20000206f', 'IMG_20000206fn', 'IMG_20000206n', 'IMG_20000207f', 'IMG_20000207fn', 'IMG_20000207n', 'IMG_20000208f', 'IMG_20000208fn', 'IMG_20000208n', 'IMG_20000209f', 'IMG_20000209fn', 'IMG_20000209n', 'IMG_20000210f', 'IMG_20000210fn', 'IMG_20000210n', 'IMG_20000211f', 'IMG_20000211fn', 'IMG_20000211n', 'IMG_20000212f', 'IMG_20000212fn', 'IMG_20000212n', 'IMG_20000213f', 'IMG_20000213fn', 'IMG_20000213n', 'IMG_20000214f', 'IMG_20000214fn', 'IMG_20000214n', 'IMG_20000215f', 'IMG_20000215fn', 'IMG_20000215n', 'IMG_20000216f', 'IMG_20000216fn', 'IMG_20000216n', 'IMG_20000217f', 'IMG_20000217fn', 'IMG_20000217n', 'IMG_20000218f', 'IMG_20000218fn', 'IMG_20000218n', 'IMG_20000219f', 'IMG_20000219fn', 'IMG_20000219n', 'IMG_20000220f', 'IMG_20000220fn', 'IMG_20000220n', 'IMG_20000221f', 'IMG_20000221fn', 'IMG_20000221n', 'IMG_20000222f', 'IMG_20000222fn', 'IMG_20000222n', 'IMG_20000223f', 'IMG_20000223fn', 'IMG_20000223n', 'IMG_20000224f', 'IMG_20000224fn', 'IMG_20000224n', 'IMG_20000225f', 'IMG_20000225fn', 'IMG_20000225n', 'IMG_20000226f', 'IMG_20000226fn', 'IMG_20000226n', 'IMG_20000227f', 'IMG_20000227fn', 'IMG_20000227n', 'IMG_20000228f', 'IMG_20000228fn', 'IMG_20000228n', 'IMG_20000229f', 'IMG_20000229fn', 'IMG_20000229n', 'IMG_20000230f', 'IMG_20000230fn', 'IMG_20000230n', 'IMG_20000231f', 'IMG_20000231fn', 'IMG_20000231n', 'IMG_20000232f', 'IMG_20000232fn', 'IMG_20000232n', 'IMG_20000233f', 'IMG_20000233fn', 'IMG_20000233n', 'IMG_20000234f', 'IMG_20000234fn', 'IMG_20000234n', 'IMG_20000235f', 'IMG_20000235fn', 'IMG_20000235n', 'IMG_20000236f', 'IMG_20000236fn', 'IMG_20000236n', 'IMG_20000237f', 'IMG_20000237fn', 'IMG_20000237n', 'IMG_20000238f', 'IMG_20000238fn', 'IMG_20000238n', 'IMG_20000239f', 'IMG_20000239fn', 'IMG_20000239n', 'IMG_20000240f', 'IMG_20000240fn', 'IMG_20000240n', 'IMG_20000241f', 'IMG_20000241fn', 'IMG_20000241n', 'IMG_20000242f', 'IMG_20000242fn', 'IMG_20000242n', 'IMG_20000243f', 'IMG_20000243fn', 'IMG_20000243n', 'IMG_20000244f', 'IMG_20000244fn', 'IMG_20000244n', 'IMG_20000245f', 'IMG_20000245fn', 'IMG_20000245n', 'IMG_20000246f', 'IMG_20000246fn', 'IMG_20000246n', 'IMG_20000247f', 'IMG_20000247fn', 'IMG_20000247n', 'IMG_20000248f', 'IMG_20000248fn', 'IMG_20000248n', 'IMG_20000249f', 'IMG_20000249fn', 'IMG_20000249n', 'IMG_20000250f', 'IMG_20000250fn', 'IMG_20000250n', 'IMG_20000251f', 'IMG_20000251fn', 'IMG_20000251n', 'IMG_20000252f', 'IMG_20000252fn', 'IMG_20000252n', 'IMG_20000253f', 'IMG_20000253fn', 'IMG_20000253n', 'IMG_20000254f', 'IMG_20000254fn', 'IMG_20000254n', 'IMG_20000255f', 'IMG_20000255fn', 'IMG_20000255n', 'IMG_20000256f', 'IMG_20000256fn', 'IMG_20000256n', 'IMG_20000257f', 'IMG_20000257fn', 'IMG_20000257n', 'IMG_20000258f', 'IMG_20000258fn', 'IMG_20000258n', 'IMG_20000259f', 'IMG_20000259fn', 'IMG_20000259n', 'IMG_20000260f', 'IMG_20000260fn', 'IMG_20000260n', 'IMG_20000261f', 'IMG_20000261fn', 'IMG_20000261n', 'IMG_20000262f', 'IMG_20000262fn', 'IMG_20000262n', 'IMG_20000263f', 'IMG_20000263fn', 'IMG_20000263n', 'IMG_20000264f', 'IMG_20000264fn', 'IMG_20000264n', 'IMG_20000265f', 'IMG_20000265fn', 'IMG_20000265n', 'IMG_20000266f', 'IMG_20000266fn', 'IMG_20000266n', 'IMG_20000267f', 'IMG_20000267fn', 'IMG_20000267n', 'IMG_20000268f', 'IMG_20000268fn', 'IMG_20000268n', 'IMG_20000269f', 'IMG_20000269fn', 'IMG_20000269n', 'IMG_20000270f', 'IMG_20000270fn', 'IMG_20000270n', 'IMG_20000271f', 'IMG_20000271fn', 'IMG_20000271n', 'IMG_20000272f', 'IMG_20000272fn', 'IMG_20000272n', 'IMG_20000273f', 'IMG_20000273fn', 'IMG_20000273n', 'IMG_20000274f', 'IMG_20000274fn', 'IMG_20000274n', 'IMG_20000275f', 'IMG_20000275fn', 'IMG_20000275n', 'IMG_20000276f', 'IMG_20000276fn', 'IMG_20000276n', 'IMG_20000277f', 'IMG_20000277fn', 'IMG_20000277n', 'IMG_20000278f', 'IMG_20000278fn', 'IMG_20000278n', 'IMG_20000279f', 'IMG_20000279fn', 'IMG_20000279n', 'IMG_20000280f', 'IMG_20000280fn', 'IMG_20000280n', 'IMG_20000281f', 'IMG_20000281fn', 'IMG_20000281n', 'IMG_20000282f', 'IMG_20000282fn', 'IMG_20000282n', 'IMG_20000283f', 'IMG_20000283fn', 'IMG_20000283n', 'IMG_20000284f', 'IMG_20000284fn', 'IMG_20000284n', 'IMG_20000285f', 'IMG_20000285fn', 'IMG_20000285n', 'IMG_20000286f', 'IMG_20000286fn', 'IMG_20000286n', 'IMG_20000287f', 'IMG_20000287fn', 'IMG_20000287n', 'IMG_20000288f', 'IMG_20000288fn', 'IMG_20000288n', 'IMG_20000289f', 'IMG_20000289fn', 'IMG_20000289n', 'IMG_20000290f', 'IMG_20000290fn', 'IMG_20000290n', 'IMG_20000291f', 'IMG_20000291fn', 'IMG_20000291n', 'IMG_20000292f', 'IMG_20000292fn', 'IMG_20000292n', 'IMG_20000293f', 'IMG_20000293fn', 'IMG_20000293n', 'IMG_20000294f', 'IMG_20000294fn', 'IMG_20000294n', 'IMG_20000295f', 'IMG_20000295fn', 'IMG_20000295n', 'IMG_20000296f', 'IMG_20000296fn', 'IMG_20000296n', 'IMG_30000000f', 'IMG_30000000fn', 'IMG_30000000n', 'IMG_30000001f', 'IMG_30000001fn', 'IMG_30000001n', 'IMG_30000002f', 'IMG_30000002fn', 'IMG_30000002n', 'IMG_30000003f', 'IMG_30000003fn', 'IMG_30000003n', 'IMG_30000004f', 'IMG_30000004fn', 'IMG_30000004n', 'IMG_30000005f', 'IMG_30000005fn', 'IMG_30000005n', 'IMG_30000006f', 'IMG_30000006fn', 'IMG_30000006n', 'IMG_30000007f', 'IMG_30000007fn', 'IMG_30000007n', 'IMG_30000008f', 'IMG_30000008fn', 'IMG_30000008n', 'IMG_30000009f', 'IMG_30000009fn', 'IMG_30000009n', 'IMG_30000010f', 'IMG_30000010fn', 'IMG_30000010n', 'IMG_30000011f', 'IMG_30000011fn', 'IMG_30000011n', 'IMG_30000012f', 'IMG_30000012fn', 'IMG_30000012n', 'IMG_30000013f', 'IMG_30000013fn', 'IMG_30000013n', 'IMG_30000014f', 'IMG_30000014fn', 'IMG_30000014n', 'IMG_30000015f', 'IMG_30000015fn', 'IMG_30000015n', 'IMG_30000016f', 'IMG_30000016fn', 'IMG_30000016n', 'IMG_30000017f', 'IMG_30000017fn', 'IMG_30000017n', 'IMG_30000018f', 'IMG_30000018fn', 'IMG_30000018n', 'IMG_30000019f', 'IMG_30000019fn', 'IMG_30000019n', 'IMG_30000020f', 'IMG_30000020fn', 'IMG_30000020n', 'IMG_30000021f', 'IMG_30000021fn', 'IMG_30000021n', 'IMG_30000022f', 'IMG_30000022fn', 'IMG_30000022n', 'IMG_30000023f', 'IMG_30000023fn', 'IMG_30000023n', 'IMG_30000024f', 'IMG_30000024fn', 'IMG_30000024n', 'IMG_30000025f', 'IMG_30000025fn', 'IMG_30000025n', 'IMG_30000026f', 'IMG_30000026fn', 'IMG_30000026n', 'IMG_30000027f', 'IMG_30000027fn', 'IMG_30000027n', 'IMG_30000028f', 'IMG_30000028fn', 'IMG_30000028n', 'IMG_30000029f', 'IMG_30000029fn', 'IMG_30000029n', 'IMG_30000030f', 'IMG_30000030fn', 'IMG_30000030n', 'IMG_30000031f', 'IMG_30000031fn', 'IMG_30000031n', 'IMG_30000032f', 'IMG_30000032fn', 'IMG_30000032n', 'IMG_30000033f', 'IMG_30000033fn', 'IMG_30000033n', 'IMG_30000034f', 'IMG_30000034fn', 'IMG_30000034n', 'IMG_30000035f', 'IMG_30000035fn', 'IMG_30000035n', 'IMG_30000036f', 'IMG_30000036fn', 'IMG_30000036n', 'IMG_30000037f', 'IMG_30000037fn', 'IMG_30000037n', 'IMG_30000038f', 'IMG_30000038fn', 'IMG_30000038n', 'IMG_30000039f', 'IMG_30000039fn', 'IMG_30000039n', 'IMG_30000040f', 'IMG_30000040fn', 'IMG_30000040n', 'IMG_30000041f', 'IMG_30000041fn', 'IMG_30000041n', 'IMG_30000042f', 'IMG_30000042fn', 'IMG_30000042n', 'IMG_30000043f', 'IMG_30000043fn', 'IMG_30000043n', 'IMG_30000044f', 'IMG_30000044fn', 'IMG_30000044n', 'IMG_30000045f', 'IMG_30000045fn', 'IMG_30000045n', 'IMG_30000046f', 'IMG_30000046fn', 'IMG_30000046n', 'IMG_30000047f', 'IMG_30000047fn', 'IMG_30000047n', 'IMG_30000048f', 'IMG_30000048fn', 'IMG_30000048n', 'IMG_30000049f', 'IMG_30000049fn', 'IMG_30000049n', 'IMG_30000050f', 'IMG_30000050fn', 'IMG_30000050n', 'IMG_30000051f', 'IMG_30000051fn', 'IMG_30000051n', 'IMG_30000052f', 'IMG_30000052fn', 'IMG_30000052n', 'IMG_30000053f', 'IMG_30000053fn', 'IMG_30000053n', 'IMG_30000054f', 'IMG_30000054fn', 'IMG_30000054n', 'IMG_30000055f', 'IMG_30000055fn', 'IMG_30000055n', 'IMG_30000056f', 'IMG_30000056fn', 'IMG_30000056n', 'IMG_30000057f', 'IMG_30000057fn', 'IMG_30000057n', 'IMG_30000058f', 'IMG_30000058fn', 'IMG_30000058n', 'IMG_30000059f', 'IMG_30000059fn', 'IMG_30000059n', 'IMG_30000060f', 'IMG_30000060fn', 'IMG_30000060n', 'IMG_30000061f', 'IMG_30000061fn', 'IMG_30000061n', 'IMG_30000062f', 'IMG_30000062fn', 'IMG_30000062n', 'IMG_30000063f', 'IMG_30000063fn', 'IMG_30000063n', 'IMG_30000064f', 'IMG_30000064fn', 'IMG_30000064n', 'IMG_30000065f', 'IMG_30000065fn', 'IMG_30000065n', 'IMG_30000066f', 'IMG_30000066fn', 'IMG_30000066n', 'IMG_30000067f', 'IMG_30000067fn', 'IMG_30000067n', 'IMG_30000068f', 'IMG_30000068fn', 'IMG_30000068n', 'IMG_30000069f', 'IMG_30000069fn', 'IMG_30000069n', 'IMG_30000070f', 'IMG_30000070fn', 'IMG_30000070n', 'IMG_30000071f', 'IMG_30000071fn', 'IMG_30000071n', 'IMG_30000072f', 'IMG_30000072fn', 'IMG_30000072n', 'IMG_30000073f', 'IMG_30000073fn', 'IMG_30000073n', 'IMG_30000074f', 'IMG_30000074fn', 'IMG_30000074n', 'IMG_30000075f', 'IMG_30000075fn', 'IMG_30000075n', 'IMG_30000076f', 'IMG_30000076fn', 'IMG_30000076n', 'IMG_30000077f', 'IMG_30000077fn', 'IMG_30000077n', 'IMG_30000078f', 'IMG_30000078fn', 'IMG_30000078n', 'IMG_30000079f', 'IMG_30000079fn', 'IMG_30000079n', 'IMG_30000080f', 'IMG_30000080fn', 'IMG_30000080n', 'IMG_30000081f', 'IMG_30000081fn', 'IMG_30000081n', 'IMG_30000082f', 'IMG_30000082fn', 'IMG_30000082n', 'IMG_30000083f', 'IMG_30000083fn', 'IMG_30000083n', 'IMG_30000084f', 'IMG_30000084fn', 'IMG_30000084n', 'IMG_30000085f', 'IMG_30000085fn', 'IMG_30000085n', 'IMG_30000086f', 'IMG_30000086fn', 'IMG_30000086n', 'IMG_30000087f', 'IMG_30000087fn', 'IMG_30000087n', 'IMG_30000088f', 'IMG_30000088fn', 'IMG_30000088n', 'IMG_30000089f', 'IMG_30000089fn', 'IMG_30000089n', 'IMG_30000090f', 'IMG_30000090fn', 'IMG_30000090n', 'IMG_30000091f', 'IMG_30000091fn', 'IMG_30000091n', 'IMG_30000092f', 'IMG_30000092fn', 'IMG_30000092n', 'IMG_30000093f', 'IMG_30000093fn', 'IMG_30000093n', 'IMG_30000094f', 'IMG_30000094fn', 'IMG_30000094n', 'IMG_30000095f', 'IMG_30000095fn', 'IMG_30000095n', 'IMG_30000096f', 'IMG_30000096fn', 'IMG_30000096n', 'IMG_30000097f', 'IMG_30000097fn', 'IMG_30000097n', 'IMG_30000098f', 'IMG_30000098fn', 'IMG_30000098n', 'IMG_30000099f', 'IMG_30000099fn', 'IMG_30000099n', 'IMG_30000100f', 'IMG_30000100fn', 'IMG_30000100n', 'IMG_30000101f', 'IMG_30000101fn', 'IMG_30000101n', 'IMG_30000102f', 'IMG_30000102fn', 'IMG_30000102n', 'IMG_30000103f', 'IMG_30000103fn', 'IMG_30000103n', 'IMG_30000104f', 'IMG_30000104fn', 'IMG_30000104n', 'IMG_30000105f', 'IMG_30000105fn', 'IMG_30000105n', 'IMG_30000106f', 'IMG_30000106fn', 'IMG_30000106n', 'IMG_30000107f', 'IMG_30000107fn', 'IMG_30000107n', 'IMG_30000108f', 'IMG_30000108fn', 'IMG_30000108n', 'IMG_30000109f', 'IMG_30000109fn', 'IMG_30000109n', 'IMG_30000110f', 'IMG_30000110fn', 'IMG_30000110n', 'IMG_30000111f', 'IMG_30000111fn', 'IMG_30000111n', 'IMG_30000112f', 'IMG_30000112fn', 'IMG_30000112n', 'IMG_30000113f', 'IMG_30000113fn', 'IMG_30000113n', 'IMG_30000114f', 'IMG_30000114fn', 'IMG_30000114n', 'IMG_30000115f', 'IMG_30000115fn', 'IMG_30000115n', 'IMG_30000116f', 'IMG_30000116fn', 'IMG_30000116n', 'IMG_30000117f', 'IMG_30000117fn', 'IMG_30000117n', 'IMG_30000118f', 'IMG_30000118fn', 'IMG_30000118n', 'IMG_30000119f', 'IMG_30000119fn', 'IMG_30000119n', 'IMG_30000120f', 'IMG_30000120fn', 'IMG_30000120n', 'IMG_30000121f', 'IMG_30000121fn', 'IMG_30000121n', 'IMG_30000122f', 'IMG_30000122fn', 'IMG_30000122n', 'IMG_30000123f', 'IMG_30000123fn', 'IMG_30000123n', 'IMG_30000124f', 'IMG_30000124fn', 'IMG_30000124n', 'IMG_30000125f', 'IMG_30000125fn', 'IMG_30000125n', 'IMG_30000126f', 'IMG_30000126fn', 'IMG_30000126n', 'IMG_30000127f', 'IMG_30000127fn', 'IMG_30000127n', 'IMG_30000128f', 'IMG_30000128fn', 'IMG_30000128n', 'IMG_30000129f', 'IMG_30000129fn', 'IMG_30000129n', 'IMG_30000130f', 'IMG_30000130fn', 'IMG_30000130n', 'IMG_30000131f', 'IMG_30000131fn', 'IMG_30000131n', 'IMG_30000132f', 'IMG_30000132fn', 'IMG_30000132n', 'IMG_30000133f', 'IMG_30000133fn', 'IMG_30000133n', 'IMG_30000134f', 'IMG_30000134fn', 'IMG_30000134n', 'IMG_30000135f', 'IMG_30000135fn', 'IMG_30000135n', 'IMG_30000136f', 'IMG_30000136fn', 'IMG_30000136n', 'IMG_30000137f', 'IMG_30000137fn', 'IMG_30000137n', 'IMG_30000138f', 'IMG_30000138fn', 'IMG_30000138n', 'IMG_30000139f', 'IMG_30000139fn', 'IMG_30000139n', 'IMG_30000140f', 'IMG_30000140fn', 'IMG_30000140n', 'IMG_30000141f', 'IMG_30000141fn', 'IMG_30000141n', 'IMG_30000142f', 'IMG_30000142fn', 'IMG_30000142n', 'IMG_30000143f', 'IMG_30000143fn', 'IMG_30000143n', 'IMG_30000144f', 'IMG_30000144fn', 'IMG_30000144n', 'IMG_30000145f', 'IMG_30000145fn', 'IMG_30000145n', 'IMG_30000146f', 'IMG_30000146fn', 'IMG_30000146n', 'IMG_30000147f', 'IMG_30000147fn', 'IMG_30000147n', 'IMG_30000148f', 'IMG_30000148fn', 'IMG_30000148n', 'IMG_30000149f', 'IMG_30000149fn', 'IMG_30000149n', 'IMG_30000150f', 'IMG_30000150fn', 'IMG_30000150n', 'IMG_30000151f', 'IMG_30000151fn', 'IMG_30000151n', 'IMG_30000152f', 'IMG_30000152fn', 'IMG_30000152n', 'IMG_30000153f', 'IMG_30000153fn', 'IMG_30000153n', 'IMG_30000154f', 'IMG_30000154fn', 'IMG_30000154n', 'IMG_30000155f', 'IMG_30000155fn', 'IMG_30000155n', 'IMG_30000156f', 'IMG_30000156fn', 'IMG_30000156n', 'IMG_30000157f', 'IMG_30000157fn', 'IMG_30000157n', 'IMG_30000158f', 'IMG_30000158fn', 'IMG_30000158n', 'IMG_30000159f', 'IMG_30000159fn', 'IMG_30000159n', 'IMG_30000160f', 'IMG_30000160fn', 'IMG_30000160n', 'IMG_30000161f', 'IMG_30000161fn', 'IMG_30000161n', 'IMG_30000162f', 'IMG_30000162fn', 'IMG_30000162n', 'IMG_30000163f', 'IMG_30000163fn', 'IMG_30000163n', 'IMG_30000164f', 'IMG_30000164fn', 'IMG_30000164n', 'IMG_30000165f', 'IMG_30000165fn', 'IMG_30000165n', 'IMG_30000166f', 'IMG_30000166fn', 'IMG_30000166n', 'IMG_30000167f', 'IMG_30000167fn', 'IMG_30000167n', 'IMG_30000168f', 'IMG_30000168fn', 'IMG_30000168n', 'IMG_30000169f', 'IMG_30000169fn', 'IMG_30000169n', 'IMG_30000170f', 'IMG_30000170fn', 'IMG_30000170n', 'IMG_30000171f', 'IMG_30000171fn', 'IMG_30000171n', 'IMG_30000172f', 'IMG_30000172fn', 'IMG_30000172n', 'IMG_30000173f', 'IMG_30000173fn', 'IMG_30000173n', 'IMG_30000174f', 'IMG_30000174fn', 'IMG_30000174n', 'IMG_30000175f', 'IMG_30000175fn', 'IMG_30000175n', 'IMG_30000176f', 'IMG_30000176fn', 'IMG_30000176n', 'IMG_30000177f', 'IMG_30000177fn', 'IMG_30000177n', 'IMG_30000178f', 'IMG_30000178fn', 'IMG_30000178n', 'IMG_30000179f', 'IMG_30000179fn', 'IMG_30000179n', 'IMG_30000180f', 'IMG_30000180fn', 'IMG_30000180n', 'IMG_30000181f', 'IMG_30000181fn', 'IMG_30000181n', 'IMG_30000182f', 'IMG_30000182fn', 'IMG_30000182n', 'IMG_30000183f', 'IMG_30000183fn', 'IMG_30000183n', 'IMG_30000184f', 'IMG_30000184fn', 'IMG_30000184n', 'IMG_30000185f', 'IMG_30000185fn', 'IMG_30000185n']\n"
          ],
          "name": "stdout"
        }
      ]
    },
    {
      "cell_type": "code",
      "metadata": {
        "id": "DGzvLnCp88Q7",
        "colab_type": "code",
        "outputId": "077cc64f-de77-43be-98f4-70eeea7e509b",
        "colab": {
          "base_uri": "https://localhost:8080/",
          "height": 34
        }
      },
      "source": [
        "df_train['emotion'].count()\n",
        "df_test['image_file'].count()"
      ],
      "execution_count": 0,
      "outputs": [
        {
          "output_type": "execute_result",
          "data": {
            "text/plain": [
              "275"
            ]
          },
          "metadata": {
            "tags": []
          },
          "execution_count": 9
        }
      ]
    },
    {
      "cell_type": "code",
      "metadata": {
        "id": "xy8OeNI6cRd3",
        "colab_type": "code",
        "outputId": "3805e07b-fb43-4e45-fca8-db22e60e0d66",
        "colab": {
          "base_uri": "https://localhost:8080/",
          "height": 52
        }
      },
      "source": [
        "from tqdm import tqdm\n",
        "train_data = []\n",
        "for i in tqdm(os.listdir('/content/ntrain')):\n",
        "    path = '/content/ntrain/{}'.format(i)\n",
        "    if '.jpg' in path:\n",
        "        grayscale = cv2.resize(cv2.imread(path, cv2.IMREAD_UNCHANGED), (180, 90))\n",
        "        grayscale = rgb2gray(grayscale)\n",
        "        train_data.append(grayscale.reshape(1,-1)[0])\n",
        "train_data = np.array(train_data)\n",
        "train_data.shape\n",
        "\n"
      ],
      "execution_count": 0,
      "outputs": [
        {
          "output_type": "stream",
          "text": [
            "100%|██████████| 1941/1941 [00:09<00:00, 206.85it/s]\n"
          ],
          "name": "stderr"
        },
        {
          "output_type": "execute_result",
          "data": {
            "text/plain": [
              "(1941, 16200)"
            ]
          },
          "metadata": {
            "tags": []
          },
          "execution_count": 10
        }
      ]
    },
    {
      "cell_type": "code",
      "metadata": {
        "id": "NftXFCRoCQey",
        "colab_type": "code",
        "colab": {}
      },
      "source": [
        "def catagorical_data(train_label,validation_label):\n",
        "    total_class = len(np.unique(train_label))\n",
        "    train_label = keras.utils.to_categorical(train_label, total_class)\n",
        "    validation_label = keras.utils.to_categorical(validation_label, total_class)\n",
        "    return train_label,validation_label,total_class"
      ],
      "execution_count": 0,
      "outputs": []
    },
    {
      "cell_type": "code",
      "metadata": {
        "id": "07LPfJPg-G6l",
        "colab_type": "code",
        "colab": {}
      },
      "source": [
        "train_data, validation_data, train_label, validation_label = train_test_split(train_data, train_emotion, test_size=0.2, random_state=1)"
      ],
      "execution_count": 0,
      "outputs": []
    },
    {
      "cell_type": "code",
      "metadata": {
        "id": "rkMlR0SD_Pwq",
        "colab_type": "code",
        "colab": {}
      },
      "source": [
        "# plt.imshow(train_data[0].reshape(90, 160), cmap='gray')\n",
        "# print('label ',train_emotion[0])"
      ],
      "execution_count": 0,
      "outputs": []
    },
    {
      "cell_type": "code",
      "metadata": {
        "id": "NmmaZsIO_PuM",
        "colab_type": "code",
        "outputId": "8531d13c-e4e4-40ff-deea-da9a4d5ef351",
        "colab": {
          "base_uri": "https://localhost:8080/",
          "height": 52
        }
      },
      "source": [
        "train_data = train_data.reshape(train_data.shape[0], 90, 180, 1)\n",
        "validation_data = validation_data.reshape(validation_data.shape[0], 90, 180, 1)\n",
        "print('train shape :', train_data.shape)\n",
        "print('validation shape :',validation_data.shape)"
      ],
      "execution_count": 0,
      "outputs": [
        {
          "output_type": "stream",
          "text": [
            "train shape : (1552, 90, 180, 1)\n",
            "validation shape : (389, 90, 180, 1)\n"
          ],
          "name": "stdout"
        }
      ]
    },
    {
      "cell_type": "code",
      "metadata": {
        "id": "Ts4AzKmpABeP",
        "colab_type": "code",
        "colab": {}
      },
      "source": [
        "train_label,validation_label,total_class = catagorical_data(train_label,validation_label)"
      ],
      "execution_count": 0,
      "outputs": []
    },
    {
      "cell_type": "code",
      "metadata": {
        "id": "b2Wg8kmxABp1",
        "colab_type": "code",
        "colab": {}
      },
      "source": [
        "model_cnn = Sequential()\n",
        "model_cnn.add(Conv2D(32, kernel_size=(3, 3), activation='relu', input_shape=(90, 180, 1)))\n",
        "model_cnn.add(Conv2D(64, (3, 3), activation='relu'))\n",
        "model_cnn.add(MaxPooling2D(pool_size=(2, 2)))\n",
        "model_cnn.add(Dropout(0.25))\n",
        "model_cnn.add(Flatten())\n",
        "model_cnn.add(Dense(128, activation='relu'))\n",
        "model_cnn.add(Dropout(0.5))\n",
        "model_cnn.add(Dense(total_class, activation='softmax'))\n",
        "# model_cnn.summary()"
      ],
      "execution_count": 0,
      "outputs": []
    },
    {
      "cell_type": "code",
      "metadata": {
        "id": "2r2v_JS_-HJD",
        "colab_type": "code",
        "colab": {}
      },
      "source": [
        "model_cnn.compile(loss='categorical_crossentropy', optimizer='adam', metrics=['accuracy'])"
      ],
      "execution_count": 0,
      "outputs": []
    },
    {
      "cell_type": "code",
      "metadata": {
        "id": "4Av4-IvqDp3_",
        "colab_type": "code",
        "outputId": "b7307591-d203-4bce-a888-16f2f29a755b",
        "colab": {
          "base_uri": "https://localhost:8080/",
          "height": 1000
        }
      },
      "source": [
        "model_cnn.fit(train_data, train_label, batch_size = 32, epochs = 60, verbose = 1)"
      ],
      "execution_count": 0,
      "outputs": [
        {
          "output_type": "stream",
          "text": [
            "Epoch 1/60\n",
            "49/49 [==============================] - 1s 25ms/step - loss: 1.8891 - accuracy: 0.2378\n",
            "Epoch 2/60\n",
            "49/49 [==============================] - 1s 23ms/step - loss: 1.5880 - accuracy: 0.2584\n",
            "Epoch 3/60\n",
            "49/49 [==============================] - 1s 23ms/step - loss: 1.5720 - accuracy: 0.2706\n",
            "Epoch 4/60\n",
            "49/49 [==============================] - 1s 23ms/step - loss: 1.5311 - accuracy: 0.3151\n",
            "Epoch 5/60\n",
            "49/49 [==============================] - 1s 23ms/step - loss: 1.4404 - accuracy: 0.3860\n",
            "Epoch 6/60\n",
            "49/49 [==============================] - 1s 23ms/step - loss: 1.3091 - accuracy: 0.4601\n",
            "Epoch 7/60\n",
            "49/49 [==============================] - 1s 23ms/step - loss: 1.1838 - accuracy: 0.5264\n",
            "Epoch 8/60\n",
            "49/49 [==============================] - 1s 23ms/step - loss: 1.0529 - accuracy: 0.5896\n",
            "Epoch 9/60\n",
            "49/49 [==============================] - 1s 23ms/step - loss: 0.9564 - accuracy: 0.6218\n",
            "Epoch 10/60\n",
            "49/49 [==============================] - 1s 23ms/step - loss: 0.8464 - accuracy: 0.6669\n",
            "Epoch 11/60\n",
            "49/49 [==============================] - 1s 23ms/step - loss: 0.7997 - accuracy: 0.6927\n",
            "Epoch 12/60\n",
            "49/49 [==============================] - 1s 23ms/step - loss: 0.7089 - accuracy: 0.7146\n",
            "Epoch 13/60\n",
            "49/49 [==============================] - 1s 23ms/step - loss: 0.6317 - accuracy: 0.7513\n",
            "Epoch 14/60\n",
            "49/49 [==============================] - 1s 23ms/step - loss: 0.5872 - accuracy: 0.7726\n",
            "Epoch 15/60\n",
            "49/49 [==============================] - 1s 23ms/step - loss: 0.5251 - accuracy: 0.8086\n",
            "Epoch 16/60\n",
            "49/49 [==============================] - 1s 23ms/step - loss: 0.4847 - accuracy: 0.8151\n",
            "Epoch 17/60\n",
            "49/49 [==============================] - 1s 23ms/step - loss: 0.4570 - accuracy: 0.8434\n",
            "Epoch 18/60\n",
            "49/49 [==============================] - 1s 23ms/step - loss: 0.3972 - accuracy: 0.8447\n",
            "Epoch 19/60\n",
            "49/49 [==============================] - 1s 23ms/step - loss: 0.3826 - accuracy: 0.8383\n",
            "Epoch 20/60\n",
            "49/49 [==============================] - 1s 23ms/step - loss: 0.3365 - accuracy: 0.8698\n",
            "Epoch 21/60\n",
            "49/49 [==============================] - 1s 23ms/step - loss: 0.3159 - accuracy: 0.8750\n",
            "Epoch 22/60\n",
            "49/49 [==============================] - 1s 23ms/step - loss: 0.3206 - accuracy: 0.8834\n",
            "Epoch 23/60\n",
            "49/49 [==============================] - 1s 23ms/step - loss: 0.3181 - accuracy: 0.8905\n",
            "Epoch 24/60\n",
            "49/49 [==============================] - 1s 23ms/step - loss: 0.2711 - accuracy: 0.8905\n",
            "Epoch 25/60\n",
            "49/49 [==============================] - 1s 23ms/step - loss: 0.2606 - accuracy: 0.8885\n",
            "Epoch 26/60\n",
            "49/49 [==============================] - 1s 23ms/step - loss: 0.2491 - accuracy: 0.9040\n",
            "Epoch 27/60\n",
            "49/49 [==============================] - 1s 23ms/step - loss: 0.2480 - accuracy: 0.9027\n",
            "Epoch 28/60\n",
            "49/49 [==============================] - 1s 23ms/step - loss: 0.2285 - accuracy: 0.9008\n",
            "Epoch 29/60\n",
            "49/49 [==============================] - 1s 23ms/step - loss: 0.2285 - accuracy: 0.9124\n",
            "Epoch 30/60\n",
            "49/49 [==============================] - 1s 23ms/step - loss: 0.2272 - accuracy: 0.9046\n",
            "Epoch 31/60\n",
            "49/49 [==============================] - 1s 23ms/step - loss: 0.2065 - accuracy: 0.9188\n",
            "Epoch 32/60\n",
            "49/49 [==============================] - 1s 23ms/step - loss: 0.2149 - accuracy: 0.9117\n",
            "Epoch 33/60\n",
            "49/49 [==============================] - 1s 23ms/step - loss: 0.2061 - accuracy: 0.9143\n",
            "Epoch 34/60\n",
            "49/49 [==============================] - 1s 23ms/step - loss: 0.2204 - accuracy: 0.9085\n",
            "Epoch 35/60\n",
            "49/49 [==============================] - 1s 23ms/step - loss: 0.2069 - accuracy: 0.9169\n",
            "Epoch 36/60\n",
            "49/49 [==============================] - 1s 23ms/step - loss: 0.1906 - accuracy: 0.9162\n",
            "Epoch 37/60\n",
            "49/49 [==============================] - 1s 23ms/step - loss: 0.1955 - accuracy: 0.9162\n",
            "Epoch 38/60\n",
            "49/49 [==============================] - 1s 23ms/step - loss: 0.1859 - accuracy: 0.9220\n",
            "Epoch 39/60\n",
            "49/49 [==============================] - 1s 23ms/step - loss: 0.1905 - accuracy: 0.9182\n",
            "Epoch 40/60\n",
            "49/49 [==============================] - 1s 23ms/step - loss: 0.1811 - accuracy: 0.9207\n",
            "Epoch 41/60\n",
            "49/49 [==============================] - 1s 23ms/step - loss: 0.1570 - accuracy: 0.9291\n",
            "Epoch 42/60\n",
            "49/49 [==============================] - 1s 23ms/step - loss: 0.1727 - accuracy: 0.9304\n",
            "Epoch 43/60\n",
            "49/49 [==============================] - 1s 23ms/step - loss: 0.1656 - accuracy: 0.9304\n",
            "Epoch 44/60\n",
            "49/49 [==============================] - 1s 23ms/step - loss: 0.1708 - accuracy: 0.9233\n",
            "Epoch 45/60\n",
            "49/49 [==============================] - 1s 23ms/step - loss: 0.1712 - accuracy: 0.9259\n",
            "Epoch 46/60\n",
            "49/49 [==============================] - 1s 23ms/step - loss: 0.1667 - accuracy: 0.9285\n",
            "Epoch 47/60\n",
            "49/49 [==============================] - 1s 23ms/step - loss: 0.1457 - accuracy: 0.9323\n",
            "Epoch 48/60\n",
            "49/49 [==============================] - 1s 23ms/step - loss: 0.1668 - accuracy: 0.9291\n",
            "Epoch 49/60\n",
            "49/49 [==============================] - 1s 23ms/step - loss: 0.1650 - accuracy: 0.9336\n",
            "Epoch 50/60\n",
            "49/49 [==============================] - 1s 23ms/step - loss: 0.1545 - accuracy: 0.9304\n",
            "Epoch 51/60\n",
            "49/49 [==============================] - 1s 23ms/step - loss: 0.1499 - accuracy: 0.9336\n",
            "Epoch 52/60\n",
            "49/49 [==============================] - 1s 23ms/step - loss: 0.1720 - accuracy: 0.9265\n",
            "Epoch 53/60\n",
            "49/49 [==============================] - 1s 23ms/step - loss: 0.1448 - accuracy: 0.9446\n",
            "Epoch 54/60\n",
            "49/49 [==============================] - 1s 23ms/step - loss: 0.1624 - accuracy: 0.9343\n",
            "Epoch 55/60\n",
            "49/49 [==============================] - 1s 23ms/step - loss: 0.1522 - accuracy: 0.9446\n",
            "Epoch 56/60\n",
            "49/49 [==============================] - 1s 23ms/step - loss: 0.1553 - accuracy: 0.9362\n",
            "Epoch 57/60\n",
            "49/49 [==============================] - 1s 23ms/step - loss: 0.1414 - accuracy: 0.9465\n",
            "Epoch 58/60\n",
            "49/49 [==============================] - 1s 23ms/step - loss: 0.1406 - accuracy: 0.9394\n",
            "Epoch 59/60\n",
            "49/49 [==============================] - 1s 23ms/step - loss: 0.1393 - accuracy: 0.9356\n",
            "Epoch 60/60\n",
            "49/49 [==============================] - 1s 23ms/step - loss: 0.1460 - accuracy: 0.9317\n"
          ],
          "name": "stdout"
        },
        {
          "output_type": "execute_result",
          "data": {
            "text/plain": [
              "<tensorflow.python.keras.callbacks.History at 0x7f242008f4a8>"
            ]
          },
          "metadata": {
            "tags": []
          },
          "execution_count": 18
        }
      ]
    },
    {
      "cell_type": "code",
      "metadata": {
        "id": "tOHwlc3jDqqo",
        "colab_type": "code",
        "colab": {}
      },
      "source": [
        "test_image_file = df_test['image_file'].to_list()"
      ],
      "execution_count": 0,
      "outputs": []
    },
    {
      "cell_type": "code",
      "metadata": {
        "id": "UH2etMzDGers",
        "colab_type": "code",
        "outputId": "827588c3-5150-4b15-ad0e-a720c9a52d90",
        "colab": {
          "base_uri": "https://localhost:8080/",
          "height": 52
        }
      },
      "source": [
        "test_data = []\n",
        "for i in tqdm(os.listdir('/content/ntest')):\n",
        "    path = '/content/ntest/{}'.format(i)\n",
        "    if '.jpg' in path:\n",
        "        grayscale = cv2.resize(cv2.imread(path, cv2.IMREAD_UNCHANGED), (180, 90))\n",
        "        grayscale = rgb2gray(grayscale)\n",
        "        test_data.append(grayscale.reshape(1,-1)[0])\n",
        "test_data = np.array(test_data)\n",
        "test_data.shape"
      ],
      "execution_count": 0,
      "outputs": [
        {
          "output_type": "stream",
          "text": [
            "100%|██████████| 275/275 [00:01<00:00, 273.30it/s]\n"
          ],
          "name": "stderr"
        },
        {
          "output_type": "execute_result",
          "data": {
            "text/plain": [
              "(275, 16200)"
            ]
          },
          "metadata": {
            "tags": []
          },
          "execution_count": 20
        }
      ]
    },
    {
      "cell_type": "code",
      "metadata": {
        "id": "ZuBzxRgwGepc",
        "colab_type": "code",
        "outputId": "206a584f-9347-4b3b-8245-8d2322863f6c",
        "colab": {
          "base_uri": "https://localhost:8080/",
          "height": 235
        }
      },
      "source": [
        "plt.imshow(test_data[0].reshape(90, 180), cmap='gray')"
      ],
      "execution_count": 0,
      "outputs": [
        {
          "output_type": "execute_result",
          "data": {
            "text/plain": [
              "<matplotlib.image.AxesImage at 0x7f23d44b5f28>"
            ]
          },
          "metadata": {
            "tags": []
          },
          "execution_count": 21
        },
        {
          "output_type": "display_data",
          "data": {
            "image/png": "[encoded data removed]",
            "text/plain": [
              "<Figure size 432x288 with 1 Axes>"
            ]
          },
          "metadata": {
            "tags": [],
            "needs_background": "light"
          }
        }
      ]
    },
    {
      "cell_type": "code",
      "metadata": {
        "id": "AOLBT1ZjGeny",
        "colab_type": "code",
        "outputId": "3b17efd1-d2f8-436d-f69b-3e0de67e3382",
        "colab": {
          "base_uri": "https://localhost:8080/",
          "height": 206
        }
      },
      "source": [
        "test_data = test_data.reshape(test_data.shape[0], 90, 180, 1)\n",
        "y_pred = model_cnn.predict(test_data, verbose=0)\n",
        "y_classes = y_pred.argmax(axis=-1).tolist()\n",
        "ans = pd.DataFrame(y_classes, columns=['emotion'])\n",
        "ans.head()"
      ],
      "execution_count": 0,
      "outputs": [
        {
          "output_type": "execute_result",
          "data": {
            "text/html": [
              "<div>\n",
              "<style scoped>\n",
              "    .dataframe tbody tr th:only-of-type {\n",
              "        vertical-align: middle;\n",
              "    }\n",
              "\n",
              "    .dataframe tbody tr th {\n",
              "        vertical-align: top;\n",
              "    }\n",
              "\n",
              "    .dataframe thead th {\n",
              "        text-align: right;\n",
              "    }\n",
              "</style>\n",
              "<table border=\"1\" class=\"dataframe\">\n",
              "  <thead>\n",
              "    <tr style=\"text-align: right;\">\n",
              "      <th></th>\n",
              "      <th>emotion</th>\n",
              "    </tr>\n",
              "  </thead>\n",
              "  <tbody>\n",
              "    <tr>\n",
              "      <th>0</th>\n",
              "      <td>4</td>\n",
              "    </tr>\n",
              "    <tr>\n",
              "      <th>1</th>\n",
              "      <td>4</td>\n",
              "    </tr>\n",
              "    <tr>\n",
              "      <th>2</th>\n",
              "      <td>0</td>\n",
              "    </tr>\n",
              "    <tr>\n",
              "      <th>3</th>\n",
              "      <td>1</td>\n",
              "    </tr>\n",
              "    <tr>\n",
              "      <th>4</th>\n",
              "      <td>3</td>\n",
              "    </tr>\n",
              "  </tbody>\n",
              "</table>\n",
              "</div>"
            ],
            "text/plain": [
              "   emotion\n",
              "0        4\n",
              "1        4\n",
              "2        0\n",
              "3        1\n",
              "4        3"
            ]
          },
          "metadata": {
            "tags": []
          },
          "execution_count": 22
        }
      ]
    },
    {
      "cell_type": "code",
      "metadata": {
        "id": "8kfrSVLzGeiz",
        "colab_type": "code",
        "colab": {}
      },
      "source": [
        "ans.to_csv('submission.csv', index=None)"
      ],
      "execution_count": 0,
      "outputs": []
    },
    {
      "cell_type": "code",
      "metadata": {
        "id": "fymmK9I1Dp1A",
        "colab_type": "code",
        "colab": {}
      },
      "source": [
        ""
      ],
      "execution_count": 0,
      "outputs": []
    }
  ]
}